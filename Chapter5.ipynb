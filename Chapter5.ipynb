{
  "nbformat": 4,
  "nbformat_minor": 0,
  "metadata": {
    "colab": {
      "name": "Chapter5.ipynb",
      "provenance": [],
      "mount_file_id": "1EkwnbXPqwBxIW5CgyesU6O2ERV9lb11Q",
      "authorship_tag": "ABX9TyNUZok1FG86jwo+9elN3i9n",
      "include_colab_link": true
    },
    "kernelspec": {
      "name": "python3",
      "display_name": "Python 3"
    },
    "language_info": {
      "name": "python"
    },
    "accelerator": "GPU"
  },
  "cells": [
    {
      "cell_type": "markdown",
      "metadata": {
        "id": "view-in-github",
        "colab_type": "text"
      },
      "source": [
        "<a href=\"https://colab.research.google.com/github/tilly963963/pytorch/blob/main/Chapter5.ipynb\" target=\"_parent\"><img src=\"https://colab.research.google.com/assets/colab-badge.svg\" alt=\"Open In Colab\"/></a>"
      ]
    },
    {
      "cell_type": "code",
      "metadata": {
        "colab": {
          "base_uri": "https://localhost:8080/"
        },
        "id": "uaXhE0mDGTJq",
        "outputId": "7a7ccbf8-cb07-4ef5-de00-29d86c2ed54c"
      },
      "source": [
        "from google.colab import drive\n",
        "drive.mount('/content/drive')"
      ],
      "execution_count": 202,
      "outputs": [
        {
          "output_type": "stream",
          "text": [
            "Drive already mounted at /content/drive; to attempt to forcibly remount, call drive.mount(\"/content/drive\", force_remount=True).\n"
          ],
          "name": "stdout"
        }
      ]
    },
    {
      "cell_type": "code",
      "metadata": {
        "id": "b5ZzwGKzGXQM"
      },
      "source": [
        "import pandas as pd"
      ],
      "execution_count": 203,
      "outputs": []
    },
    {
      "cell_type": "code",
      "metadata": {
        "colab": {
          "base_uri": "https://localhost:8080/",
          "height": 402
        },
        "id": "64oYE864HKGn",
        "outputId": "2792e755-cd55-4083-c7b8-4360f3acd4e0"
      },
      "source": [
        "df = pd.read_excel(r\"/content/drive/Shareddrives/深度學習課程_碩二/上證指數.xlsx\")\n",
        "df"
      ],
      "execution_count": 204,
      "outputs": [
        {
          "output_type": "execute_result",
          "data": {
            "text/html": [
              "<div>\n",
              "<style scoped>\n",
              "    .dataframe tbody tr th:only-of-type {\n",
              "        vertical-align: middle;\n",
              "    }\n",
              "\n",
              "    .dataframe tbody tr th {\n",
              "        vertical-align: top;\n",
              "    }\n",
              "\n",
              "    .dataframe thead th {\n",
              "        text-align: right;\n",
              "    }\n",
              "</style>\n",
              "<table border=\"1\" class=\"dataframe\">\n",
              "  <thead>\n",
              "    <tr style=\"text-align: right;\">\n",
              "      <th></th>\n",
              "      <th>名稱</th>\n",
              "      <th>代碼</th>\n",
              "      <th>日期</th>\n",
              "      <th>開盤</th>\n",
              "      <th>最高</th>\n",
              "      <th>最低</th>\n",
              "      <th>收盤</th>\n",
              "      <th>漲跌</th>\n",
              "    </tr>\n",
              "  </thead>\n",
              "  <tbody>\n",
              "    <tr>\n",
              "      <th>0</th>\n",
              "      <td>上證指數</td>\n",
              "      <td>980001</td>\n",
              "      <td>2017-01-03</td>\n",
              "      <td>3105.31</td>\n",
              "      <td>3136.46</td>\n",
              "      <td>3105.31</td>\n",
              "      <td>3135.92</td>\n",
              "      <td>1</td>\n",
              "    </tr>\n",
              "    <tr>\n",
              "      <th>1</th>\n",
              "      <td>上證指數</td>\n",
              "      <td>980001</td>\n",
              "      <td>2017-01-04</td>\n",
              "      <td>3133.79</td>\n",
              "      <td>3160.10</td>\n",
              "      <td>3130.11</td>\n",
              "      <td>3158.79</td>\n",
              "      <td>1</td>\n",
              "    </tr>\n",
              "    <tr>\n",
              "      <th>2</th>\n",
              "      <td>上證指數</td>\n",
              "      <td>980001</td>\n",
              "      <td>2017-01-05</td>\n",
              "      <td>3157.91</td>\n",
              "      <td>3168.50</td>\n",
              "      <td>3154.28</td>\n",
              "      <td>3165.41</td>\n",
              "      <td>1</td>\n",
              "    </tr>\n",
              "    <tr>\n",
              "      <th>3</th>\n",
              "      <td>上證指數</td>\n",
              "      <td>980001</td>\n",
              "      <td>2017-01-06</td>\n",
              "      <td>3163.78</td>\n",
              "      <td>3172.03</td>\n",
              "      <td>3153.03</td>\n",
              "      <td>3154.32</td>\n",
              "      <td>0</td>\n",
              "    </tr>\n",
              "    <tr>\n",
              "      <th>4</th>\n",
              "      <td>上證指數</td>\n",
              "      <td>980001</td>\n",
              "      <td>2017-01-09</td>\n",
              "      <td>3148.53</td>\n",
              "      <td>3173.14</td>\n",
              "      <td>3147.74</td>\n",
              "      <td>3171.24</td>\n",
              "      <td>1</td>\n",
              "    </tr>\n",
              "    <tr>\n",
              "      <th>...</th>\n",
              "      <td>...</td>\n",
              "      <td>...</td>\n",
              "      <td>...</td>\n",
              "      <td>...</td>\n",
              "      <td>...</td>\n",
              "      <td>...</td>\n",
              "      <td>...</td>\n",
              "      <td>...</td>\n",
              "    </tr>\n",
              "    <tr>\n",
              "      <th>177</th>\n",
              "      <td>上證指數</td>\n",
              "      <td>980001</td>\n",
              "      <td>2017-09-21</td>\n",
              "      <td>3364.70</td>\n",
              "      <td>3377.88</td>\n",
              "      <td>3356.88</td>\n",
              "      <td>3357.81</td>\n",
              "      <td>0</td>\n",
              "    </tr>\n",
              "    <tr>\n",
              "      <th>178</th>\n",
              "      <td>上證指數</td>\n",
              "      <td>980001</td>\n",
              "      <td>2017-09-22</td>\n",
              "      <td>3347.16</td>\n",
              "      <td>3356.45</td>\n",
              "      <td>3334.98</td>\n",
              "      <td>3352.53</td>\n",
              "      <td>0</td>\n",
              "    </tr>\n",
              "    <tr>\n",
              "      <th>179</th>\n",
              "      <td>上證指數</td>\n",
              "      <td>980001</td>\n",
              "      <td>2017-09-25</td>\n",
              "      <td>3344.59</td>\n",
              "      <td>3350.96</td>\n",
              "      <td>3334.94</td>\n",
              "      <td>3341.55</td>\n",
              "      <td>0</td>\n",
              "    </tr>\n",
              "    <tr>\n",
              "      <th>180</th>\n",
              "      <td>上證指數</td>\n",
              "      <td>980001</td>\n",
              "      <td>2017-09-26</td>\n",
              "      <td>3336.35</td>\n",
              "      <td>3347.16</td>\n",
              "      <td>3332.60</td>\n",
              "      <td>3343.58</td>\n",
              "      <td>1</td>\n",
              "    </tr>\n",
              "    <tr>\n",
              "      <th>181</th>\n",
              "      <td>上證指數</td>\n",
              "      <td>980001</td>\n",
              "      <td>2017-09-27</td>\n",
              "      <td>3340.82</td>\n",
              "      <td>3346.58</td>\n",
              "      <td>3340.30</td>\n",
              "      <td>3344.23</td>\n",
              "      <td>1</td>\n",
              "    </tr>\n",
              "  </tbody>\n",
              "</table>\n",
              "<p>182 rows × 8 columns</p>\n",
              "</div>"
            ],
            "text/plain": [
              "       名稱      代碼         日期       開盤       最高       最低       收盤  漲跌\n",
              "0    上證指數  980001 2017-01-03  3105.31  3136.46  3105.31  3135.92   1\n",
              "1    上證指數  980001 2017-01-04  3133.79  3160.10  3130.11  3158.79   1\n",
              "2    上證指數  980001 2017-01-05  3157.91  3168.50  3154.28  3165.41   1\n",
              "3    上證指數  980001 2017-01-06  3163.78  3172.03  3153.03  3154.32   0\n",
              "4    上證指數  980001 2017-01-09  3148.53  3173.14  3147.74  3171.24   1\n",
              "..    ...     ...        ...      ...      ...      ...      ...  ..\n",
              "177  上證指數  980001 2017-09-21  3364.70  3377.88  3356.88  3357.81   0\n",
              "178  上證指數  980001 2017-09-22  3347.16  3356.45  3334.98  3352.53   0\n",
              "179  上證指數  980001 2017-09-25  3344.59  3350.96  3334.94  3341.55   0\n",
              "180  上證指數  980001 2017-09-26  3336.35  3347.16  3332.60  3343.58   1\n",
              "181  上證指數  980001 2017-09-27  3340.82  3346.58  3340.30  3344.23   1\n",
              "\n",
              "[182 rows x 8 columns]"
            ]
          },
          "metadata": {
            "tags": []
          },
          "execution_count": 204
        }
      ]
    },
    {
      "cell_type": "code",
      "metadata": {
        "id": "ClEGdZuPHe_N"
      },
      "source": [
        "import torch \n",
        "import torch.utils.data as Data\n",
        "import numpy as np\n"
      ],
      "execution_count": 205,
      "outputs": []
    },
    {
      "cell_type": "code",
      "metadata": {
        "id": "8vX22nI_H6DK"
      },
      "source": [
        "class MyDataset(Data.Dataset):\n",
        "  def __init__(self, file_path, seq_length, train=True, transform=None):\n",
        "    df = pd.read_excel(file_path)\n",
        "    print(df)\n",
        "    df_len = len(df)-1\n",
        "    df_len -= (df_len%seq_length)\n",
        "    total_size = df_len//seq_length\n",
        "    train_size = int(total_size*0.7)\n",
        "\n",
        "    f = df.iloc[:(train_size*seq_length),3:7]\n",
        "    l = df.iloc[1:(train_size*seq_length)+1,7:]\n",
        "    data_size=train_size\n",
        "\n",
        "    if train == False:\n",
        "      f = df.iloc[(train_size*seq_length):df_len,3:7]\n",
        "      l = df.iloc[(train_size*seq_length)+1:df_len+1,7:] \n",
        "      data_size=total_size-train_size \n",
        "    self.features = np.array(f).astype(\"float32\").reshape(data_size,seq_length,4)  #np初始是64 \n",
        "    self.labels = np.array(l).astype(\"int\").reshape(data_size,seq_length,1)\n",
        "    self.transform = transform\n",
        "  def __len__(self):\n",
        "    return len(self.labels)\n",
        "  def __getitem__(self, idx):\n",
        "    # print(idx)\n",
        "    if torch.is_tensor(idx):\n",
        "      idx= idx.tolist()\n",
        "    X = self.features[idx]\n",
        "    Y = self.labels[idx]\n",
        "    # print(X)\n",
        "    # print(Y)\n",
        "    if self.transform:\n",
        "      X = self.transform(X)\n",
        "      Y = self.transform(Y)\n",
        "    return X,Y\n",
        " "
      ],
      "execution_count": 206,
      "outputs": []
    },
    {
      "cell_type": "code",
      "metadata": {
        "id": "Oz-BCnHxGK3p"
      },
      "source": [
        "def toTensor(x):\n",
        "  return torch.tensor(x)"
      ],
      "execution_count": 207,
      "outputs": []
    },
    {
      "cell_type": "code",
      "metadata": {
        "colab": {
          "base_uri": "https://localhost:8080/"
        },
        "id": "U3W4tXQKGSrl",
        "outputId": "bfa8a4cd-1eef-446d-e0f8-7a1b6c55e19e"
      },
      "source": [
        "file_path=r\"/content/drive/Shareddrives/深度學習課程_碩二/上證指數.xlsx\"\n",
        "train_dataset = MyDataset(file_path,seq_length=5,train=True,transform=toTensor)\n",
        "\n",
        "test_dataset = MyDataset(file_path,seq_length=5,train=False,transform=toTensor)"
      ],
      "execution_count": 208,
      "outputs": [
        {
          "output_type": "stream",
          "text": [
            "       名稱      代碼         日期       開盤       最高       最低       收盤  漲跌\n",
            "0    上證指數  980001 2017-01-03  3105.31  3136.46  3105.31  3135.92   1\n",
            "1    上證指數  980001 2017-01-04  3133.79  3160.10  3130.11  3158.79   1\n",
            "2    上證指數  980001 2017-01-05  3157.91  3168.50  3154.28  3165.41   1\n",
            "3    上證指數  980001 2017-01-06  3163.78  3172.03  3153.03  3154.32   0\n",
            "4    上證指數  980001 2017-01-09  3148.53  3173.14  3147.74  3171.24   1\n",
            "..    ...     ...        ...      ...      ...      ...      ...  ..\n",
            "177  上證指數  980001 2017-09-21  3364.70  3377.88  3356.88  3357.81   0\n",
            "178  上證指數  980001 2017-09-22  3347.16  3356.45  3334.98  3352.53   0\n",
            "179  上證指數  980001 2017-09-25  3344.59  3350.96  3334.94  3341.55   0\n",
            "180  上證指數  980001 2017-09-26  3336.35  3347.16  3332.60  3343.58   1\n",
            "181  上證指數  980001 2017-09-27  3340.82  3346.58  3340.30  3344.23   1\n",
            "\n",
            "[182 rows x 8 columns]\n",
            "       名稱      代碼         日期       開盤       最高       最低       收盤  漲跌\n",
            "0    上證指數  980001 2017-01-03  3105.31  3136.46  3105.31  3135.92   1\n",
            "1    上證指數  980001 2017-01-04  3133.79  3160.10  3130.11  3158.79   1\n",
            "2    上證指數  980001 2017-01-05  3157.91  3168.50  3154.28  3165.41   1\n",
            "3    上證指數  980001 2017-01-06  3163.78  3172.03  3153.03  3154.32   0\n",
            "4    上證指數  980001 2017-01-09  3148.53  3173.14  3147.74  3171.24   1\n",
            "..    ...     ...        ...      ...      ...      ...      ...  ..\n",
            "177  上證指數  980001 2017-09-21  3364.70  3377.88  3356.88  3357.81   0\n",
            "178  上證指數  980001 2017-09-22  3347.16  3356.45  3334.98  3352.53   0\n",
            "179  上證指數  980001 2017-09-25  3344.59  3350.96  3334.94  3341.55   0\n",
            "180  上證指數  980001 2017-09-26  3336.35  3347.16  3332.60  3343.58   1\n",
            "181  上證指數  980001 2017-09-27  3340.82  3346.58  3340.30  3344.23   1\n",
            "\n",
            "[182 rows x 8 columns]\n"
          ],
          "name": "stdout"
        }
      ]
    },
    {
      "cell_type": "code",
      "metadata": {
        "colab": {
          "base_uri": "https://localhost:8080/"
        },
        "id": "pOyazXXrHzbD",
        "outputId": "fec32de9-9f12-4986-e5ef-76aad6dd9a28"
      },
      "source": [
        "featurs, labels = train_dataset[2:9]\n",
        "print(featurs.shape)\n",
        "print(labels.shape)\n"
      ],
      "execution_count": 209,
      "outputs": [
        {
          "output_type": "stream",
          "text": [
            "torch.Size([7, 5, 4])\n",
            "torch.Size([7, 5, 1])\n"
          ],
          "name": "stdout"
        }
      ]
    },
    {
      "cell_type": "code",
      "metadata": {
        "id": "5-V2DVH_J44n"
      },
      "source": [
        "train_loader = Data.DataLoader(dataset=train_dataset,batch_size=5,shuffle=True)\n",
        "test_loader = Data.DataLoader(dataset=test_dataset,batch_size=5,shuffle=False)\n"
      ],
      "execution_count": 210,
      "outputs": []
    },
    {
      "cell_type": "code",
      "metadata": {
        "colab": {
          "base_uri": "https://localhost:8080/"
        },
        "id": "r7JoZThiKPug",
        "outputId": "637bc269-4a41-4197-de9d-6ebfa56ebc92"
      },
      "source": [
        "for i,(seqs, labels) in enumerate(train_loader):\n",
        "  print(seqs.shape)\n",
        "seqs"
      ],
      "execution_count": 211,
      "outputs": [
        {
          "output_type": "stream",
          "text": [
            "torch.Size([5, 5, 4])\n",
            "torch.Size([5, 5, 4])\n",
            "torch.Size([5, 5, 4])\n",
            "torch.Size([5, 5, 4])\n",
            "torch.Size([5, 5, 4])\n"
          ],
          "name": "stdout"
        },
        {
          "output_type": "execute_result",
          "data": {
            "text/plain": [
              "tensor([[[3148.0200, 3150.4600, 3134.6101, 3140.0100],\n",
              "         [3148.9900, 3157.0300, 3132.6201, 3156.2100],\n",
              "         [3152.2400, 3186.9800, 3146.6399, 3147.4500],\n",
              "         [3138.4399, 3158.0500, 3118.0901, 3157.8701],\n",
              "         [3157.0000, 3187.8899, 3156.9800, 3185.4399]],\n",
              "\n",
              "        [[3165.6699, 3178.1799, 3148.1799, 3172.1001],\n",
              "         [3170.2900, 3180.7900, 3158.6299, 3173.1499],\n",
              "         [3164.2500, 3164.2500, 3111.2100, 3129.5300],\n",
              "         [3123.8899, 3145.2700, 3117.4500, 3134.5701],\n",
              "         [3132.9199, 3152.9500, 3131.4199, 3140.8501]],\n",
              "\n",
              "        [[3086.7100, 3095.4800, 3081.2800, 3090.6299],\n",
              "         [3087.1699, 3103.9399, 3063.1499, 3075.6799],\n",
              "         [3069.3899, 3084.2400, 3050.8401, 3061.9500],\n",
              "         [3047.5701, 3064.8101, 3022.3000, 3064.0801],\n",
              "         [3055.3401, 3114.6599, 3052.8301, 3107.8301]],\n",
              "\n",
              "        [[3105.3101, 3136.4600, 3105.3101, 3135.9199],\n",
              "         [3133.7900, 3160.1001, 3130.1101, 3158.7900],\n",
              "         [3157.9099, 3168.5000, 3154.2800, 3165.4099],\n",
              "         [3163.7800, 3172.0300, 3153.0300, 3154.3201],\n",
              "         [3148.5300, 3173.1399, 3147.7400, 3171.2400]],\n",
              "\n",
              "        [[3134.5901, 3149.5300, 3131.2200, 3142.5500],\n",
              "         [3137.6499, 3151.4700, 3133.1899, 3149.5500],\n",
              "         [3149.2200, 3163.1001, 3148.9099, 3159.1699],\n",
              "         [3160.0801, 3162.6799, 3136.0100, 3140.1699],\n",
              "         [3143.0901, 3158.8401, 3135.3899, 3156.9800]]])"
            ]
          },
          "metadata": {
            "tags": []
          },
          "execution_count": 211
        }
      ]
    },
    {
      "cell_type": "code",
      "metadata": {
        "id": "4MbStYhJLWhR"
      },
      "source": [
        "input_size = 4\n",
        "hidden_size = 32\n",
        "num_layer = 1\n",
        "num_class = 1"
      ],
      "execution_count": 212,
      "outputs": []
    },
    {
      "cell_type": "code",
      "metadata": {
        "id": "YtiMqw_mLwcq"
      },
      "source": [
        "import torch.nn as nn\n",
        "from torch.autograd import Variable"
      ],
      "execution_count": 213,
      "outputs": []
    },
    {
      "cell_type": "code",
      "metadata": {
        "id": "WJL9gOKtL-rb"
      },
      "source": [
        "class RNN(nn.Module):\n",
        "  def __init__(self,input_size,hidden_size,num_layer,num_class):\n",
        "    super(RNN,self).__init__()\n",
        "    self.hidden_size = hidden_size\n",
        "    self.num_layer = num_layer\n",
        "    self.normal = nn.BatchNorm1d(5, affine=True)\n",
        "    self.lstm = nn.LSTM(input_size,hidden_size,num_layer,batch_first=True)\n",
        "    self.fc = nn.Linear(hidden_size,num_class)\n",
        "    self.sigmoid = nn.Sigmoid()\n",
        "  def forward(self, x):\n",
        "    h0 = Variable(torch.zeros(num_layer,x.size(0),hidden_size))\n",
        "    c0 = Variable(torch.zeros(num_layer,x.size(0),hidden_size))\n",
        "    out = self.normal(x)\n",
        "    out, _ = self.lstm(out,(h0,c0))\n",
        "    out = self.fc(out)\n",
        "    out = self.sigmoid(out)\n",
        "    return out"
      ],
      "execution_count": 214,
      "outputs": []
    },
    {
      "cell_type": "code",
      "metadata": {
        "colab": {
          "base_uri": "https://localhost:8080/"
        },
        "id": "hjho46QuN4UH",
        "outputId": "91ca287b-5d6e-44b2-e348-7f3dffa93e4f"
      },
      "source": [
        "rnn = RNN(input_size,hidden_size,num_layer,num_class)\n",
        "rnn"
      ],
      "execution_count": 215,
      "outputs": [
        {
          "output_type": "execute_result",
          "data": {
            "text/plain": [
              "RNN(\n",
              "  (normal): BatchNorm1d(5, eps=1e-05, momentum=0.1, affine=True, track_running_stats=True)\n",
              "  (lstm): LSTM(4, 32, batch_first=True)\n",
              "  (fc): Linear(in_features=32, out_features=1, bias=True)\n",
              "  (sigmoid): Sigmoid()\n",
              ")"
            ]
          },
          "metadata": {
            "tags": []
          },
          "execution_count": 215
        }
      ]
    },
    {
      "cell_type": "code",
      "metadata": {
        "colab": {
          "base_uri": "https://localhost:8080/"
        },
        "id": "sEY7lu3rOa9U",
        "outputId": "608f6f16-0631-463f-ac25-cdc569813370"
      },
      "source": [
        "output = rnn(seqs)\n",
        "output"
      ],
      "execution_count": 216,
      "outputs": [
        {
          "output_type": "execute_result",
          "data": {
            "text/plain": [
              "tensor([[[0.4822],\n",
              "         [0.4862],\n",
              "         [0.4860],\n",
              "         [0.4893],\n",
              "         [0.4955]],\n",
              "\n",
              "        [[0.4916],\n",
              "         [0.4975],\n",
              "         [0.4912],\n",
              "         [0.4867],\n",
              "         [0.4826]],\n",
              "\n",
              "        [[0.4658],\n",
              "         [0.4597],\n",
              "         [0.4567],\n",
              "         [0.4570],\n",
              "         [0.4554]],\n",
              "\n",
              "        [[0.4739],\n",
              "         [0.4800],\n",
              "         [0.4878],\n",
              "         [0.4924],\n",
              "         [0.4927]],\n",
              "\n",
              "        [[0.4802],\n",
              "         [0.4822],\n",
              "         [0.4867],\n",
              "         [0.4895],\n",
              "         [0.4881]]], grad_fn=<SigmoidBackward>)"
            ]
          },
          "metadata": {
            "tags": []
          },
          "execution_count": 216
        }
      ]
    },
    {
      "cell_type": "code",
      "metadata": {
        "id": "t_-8HFdnUZB0"
      },
      "source": [
        "import torch.optim as opt"
      ],
      "execution_count": 217,
      "outputs": []
    },
    {
      "cell_type": "code",
      "metadata": {
        "id": "dxCPmy3gUeXs"
      },
      "source": [
        "loss_fn = nn.BCELoss()\n",
        "optimizer = opt.Adam(rnn.parameters(),lr=0.001)\n"
      ],
      "execution_count": 218,
      "outputs": []
    },
    {
      "cell_type": "code",
      "metadata": {
        "colab": {
          "base_uri": "https://localhost:8080/"
        },
        "id": "2dNEECpmUuYi",
        "outputId": "59da3937-926f-4956-c91d-2cb1742f0412"
      },
      "source": [
        "for epoch in range(800):\n",
        "  for i,(seqs, labels) in enumerate(train_loader):\n",
        "    seqs = Variable(seqs)\n",
        "    labels = Variable(labels)\n",
        "    optimizer.zero_grad()\n",
        "    outputs = rnn(seqs)\n",
        "    loss = loss_fn(outputs,labels.float())#必須是float\n",
        "    loss.backward()\n",
        "    optimizer.step()\n",
        "\n",
        "    if(epoch+1)%100 == 0:\n",
        "      print(\"Epoch:%d,batch:%d,Loss:%.4f\"%(epoch+1,i+1,loss))"
      ],
      "execution_count": 219,
      "outputs": [
        {
          "output_type": "stream",
          "text": [
            "Epoch:100,batch:1,Loss:0.6135\n",
            "Epoch:100,batch:2,Loss:0.6743\n",
            "Epoch:100,batch:3,Loss:0.6959\n",
            "Epoch:100,batch:4,Loss:0.6334\n",
            "Epoch:100,batch:5,Loss:0.5863\n",
            "Epoch:200,batch:1,Loss:0.6066\n",
            "Epoch:200,batch:2,Loss:0.5686\n",
            "Epoch:200,batch:3,Loss:0.6414\n",
            "Epoch:200,batch:4,Loss:0.7435\n",
            "Epoch:200,batch:5,Loss:0.7634\n",
            "Epoch:300,batch:1,Loss:0.6104\n",
            "Epoch:300,batch:2,Loss:0.6543\n",
            "Epoch:300,batch:3,Loss:0.6588\n",
            "Epoch:300,batch:4,Loss:0.5492\n",
            "Epoch:300,batch:5,Loss:0.5873\n",
            "Epoch:400,batch:1,Loss:0.6340\n",
            "Epoch:400,batch:2,Loss:0.5614\n",
            "Epoch:400,batch:3,Loss:0.6119\n",
            "Epoch:400,batch:4,Loss:0.6128\n",
            "Epoch:400,batch:5,Loss:0.6745\n",
            "Epoch:500,batch:1,Loss:0.6492\n",
            "Epoch:500,batch:2,Loss:0.7739\n",
            "Epoch:500,batch:3,Loss:0.5840\n",
            "Epoch:500,batch:4,Loss:0.6098\n",
            "Epoch:500,batch:5,Loss:0.6303\n",
            "Epoch:600,batch:1,Loss:0.5694\n",
            "Epoch:600,batch:2,Loss:0.5983\n",
            "Epoch:600,batch:3,Loss:0.5395\n",
            "Epoch:600,batch:4,Loss:0.6794\n",
            "Epoch:600,batch:5,Loss:0.5555\n",
            "Epoch:700,batch:1,Loss:0.5806\n",
            "Epoch:700,batch:2,Loss:0.5875\n",
            "Epoch:700,batch:3,Loss:0.6021\n",
            "Epoch:700,batch:4,Loss:0.5490\n",
            "Epoch:700,batch:5,Loss:0.6801\n",
            "Epoch:800,batch:1,Loss:0.4767\n",
            "Epoch:800,batch:2,Loss:0.6246\n",
            "Epoch:800,batch:3,Loss:0.5660\n",
            "Epoch:800,batch:4,Loss:0.5477\n",
            "Epoch:800,batch:5,Loss:0.5423\n"
          ],
          "name": "stdout"
        }
      ]
    },
    {
      "cell_type": "code",
      "metadata": {
        "colab": {
          "base_uri": "https://localhost:8080/"
        },
        "id": "kQhPWMdaWufH",
        "outputId": "6209364d-2474-4037-b211-690903d07c9f"
      },
      "source": [
        "correct = 0\n",
        "total = 0\n",
        "for seqs, labels in test_dataset:\n",
        "  for i,(seqs, labels) in enumerate(train_loader):\n",
        "    seqs = Variable(seqs)\n",
        "    # labels = Variable(labels)\n",
        "    outputs = rnn(seqs)\n",
        "    preducted=outputs.gt(0.5)\n",
        "\n",
        "    total += (labels.size(0)*labels.size(1))\n",
        "    correct += (preducted.int() == labels).sum()\n",
        "print(\"Acc:%.3f\"%(100.*float(correct)//float(total)))"
      ],
      "execution_count": 220,
      "outputs": [
        {
          "output_type": "stream",
          "text": [
            "Acc:65.000\n"
          ],
          "name": "stdout"
        }
      ]
    }
  ]
}
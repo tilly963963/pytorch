{
  "nbformat": 4,
  "nbformat_minor": 0,
  "metadata": {
    "colab": {
      "name": "Chapter1.ipynb",
      "provenance": [],
      "authorship_tag": "ABX9TyPs3uKLDMq+39vwtpLyZQpa",
      "include_colab_link": true
    },
    "kernelspec": {
      "name": "python3",
      "display_name": "Python 3"
    }
  },
  "cells": [
    {
      "cell_type": "markdown",
      "metadata": {
        "id": "view-in-github",
        "colab_type": "text"
      },
      "source": [
        "<a href=\"https://colab.research.google.com/github/tilly963963/pytorch/blob/main/Chapter1.ipynb\" target=\"_parent\"><img src=\"https://colab.research.google.com/assets/colab-badge.svg\" alt=\"Open In Colab\"/></a>"
      ]
    },
    {
      "cell_type": "code",
      "metadata": {
        "id": "gN7DgsQlPZad"
      },
      "source": [
        "import torch"
      ],
      "execution_count": null,
      "outputs": []
    },
    {
      "cell_type": "code",
      "metadata": {
        "colab": {
          "base_uri": "https://localhost:8080/",
          "height": 35
        },
        "id": "XsCDGxVGPylH",
        "outputId": "2c21ae97-ffce-4055-f5ff-00918f4c13b1"
      },
      "source": [
        "'''\n",
        "向量 矩陣 張量\n",
        "'''"
      ],
      "execution_count": null,
      "outputs": [
        {
          "output_type": "execute_result",
          "data": {
            "application/vnd.google.colaboratory.intrinsic+json": {
              "type": "string"
            },
            "text/plain": [
              "'\\n向量 矩陣 張量\\n'"
            ]
          },
          "metadata": {
            "tags": []
          },
          "execution_count": 43
        }
      ]
    },
    {
      "cell_type": "code",
      "metadata": {
        "colab": {
          "base_uri": "https://localhost:8080/"
        },
        "id": "rGJBsZdjPgHi",
        "outputId": "a6a357bc-7050-4903-8cce-a7b16fc2f9b1"
      },
      "source": [
        "z = torch.Tensor(4,5) #2的維度 各維度的size\n",
        "z"
      ],
      "execution_count": null,
      "outputs": [
        {
          "output_type": "execute_result",
          "data": {
            "text/plain": [
              "tensor([[-1.3073e-20,  3.0925e-41,  7.0065e-44,  6.8664e-44,  6.3058e-44],\n",
              "        [ 6.7262e-44,  7.1466e-44,  6.3058e-44,  6.7262e-44,  7.5670e-44],\n",
              "        [ 1.1771e-43,  6.8664e-44,  7.1466e-44,  8.1275e-44,  7.2868e-44],\n",
              "        [ 6.8664e-44,  8.1275e-44,  6.8664e-44,  7.2868e-44,  6.4460e-44]])"
            ]
          },
          "metadata": {
            "tags": []
          },
          "execution_count": 44
        }
      ]
    },
    {
      "cell_type": "code",
      "metadata": {
        "colab": {
          "base_uri": "https://localhost:8080/"
        },
        "id": "sLdMUsiiQB5O",
        "outputId": "f56654ce-b499-4e9c-f29f-19ea56a5b6b4"
      },
      "source": [
        "z.dtype"
      ],
      "execution_count": null,
      "outputs": [
        {
          "output_type": "execute_result",
          "data": {
            "text/plain": [
              "torch.float32"
            ]
          },
          "metadata": {
            "tags": []
          },
          "execution_count": 45
        }
      ]
    },
    {
      "cell_type": "code",
      "metadata": {
        "colab": {
          "base_uri": "https://localhost:8080/"
        },
        "id": "_I96v6YAQWJs",
        "outputId": "9b27228e-0c73-43f3-e9db-149ac86baca1"
      },
      "source": [
        "a = torch.FloatTensor(4,5)\n",
        "b = torch.FloatTensor([[2,3],[4,5]])\n",
        "a"
      ],
      "execution_count": null,
      "outputs": [
        {
          "output_type": "execute_result",
          "data": {
            "text/plain": [
              "tensor([[-1.3076e-20,  3.0925e-41,  0.0000e+00,  0.0000e+00,  0.0000e+00],\n",
              "        [ 0.0000e+00,  0.0000e+00,  0.0000e+00,  3.5733e-43,  0.0000e+00],\n",
              "        [ 0.0000e+00,  0.0000e+00,  0.0000e+00,  0.0000e+00,  0.0000e+00],\n",
              "        [ 0.0000e+00,  3.5733e-43,  0.0000e+00,  0.0000e+00,  0.0000e+00]])"
            ]
          },
          "metadata": {
            "tags": []
          },
          "execution_count": 46
        }
      ]
    },
    {
      "cell_type": "code",
      "metadata": {
        "colab": {
          "base_uri": "https://localhost:8080/"
        },
        "id": "MCde_LJOQq59",
        "outputId": "f73d87bc-f2a6-4f3d-ec22-d5dd572555ff"
      },
      "source": [
        "b"
      ],
      "execution_count": null,
      "outputs": [
        {
          "output_type": "execute_result",
          "data": {
            "text/plain": [
              "tensor([[2., 3.],\n",
              "        [4., 5.]])"
            ]
          },
          "metadata": {
            "tags": []
          },
          "execution_count": 47
        }
      ]
    },
    {
      "cell_type": "code",
      "metadata": {
        "colab": {
          "base_uri": "https://localhost:8080/"
        },
        "id": "asBjavwYQsnW",
        "outputId": "47e79c28-0d91-4022-ccd1-b701129563aa"
      },
      "source": [
        "a.dtype"
      ],
      "execution_count": null,
      "outputs": [
        {
          "output_type": "execute_result",
          "data": {
            "text/plain": [
              "torch.float32"
            ]
          },
          "metadata": {
            "tags": []
          },
          "execution_count": 48
        }
      ]
    },
    {
      "cell_type": "code",
      "metadata": {
        "colab": {
          "base_uri": "https://localhost:8080/"
        },
        "id": "ZciMLp8jQupu",
        "outputId": "942da46a-b80b-433b-e52b-d2c986d3274b"
      },
      "source": [
        "b.dtype"
      ],
      "execution_count": null,
      "outputs": [
        {
          "output_type": "execute_result",
          "data": {
            "text/plain": [
              "torch.float32"
            ]
          },
          "metadata": {
            "tags": []
          },
          "execution_count": 49
        }
      ]
    },
    {
      "cell_type": "code",
      "metadata": {
        "colab": {
          "base_uri": "https://localhost:8080/"
        },
        "id": "3f23tN94QwgJ",
        "outputId": "68073874-d792-4a81-82b7-a7419757e867"
      },
      "source": [
        "a = torch.IntTensor(4,5)\n",
        "b = torch.IntTensor([[2,3],[4,5]])\n",
        "a"
      ],
      "execution_count": null,
      "outputs": [
        {
          "output_type": "execute_result",
          "data": {
            "text/plain": [
              "tensor([[-1636373120,       22069,          50,          49,          45],\n",
              "        [         48,          51,          45,          48,          54],\n",
              "        [         84,          49,          51,          58,          52],\n",
              "        [         49,          58,          49,          52,          46]],\n",
              "       dtype=torch.int32)"
            ]
          },
          "metadata": {
            "tags": []
          },
          "execution_count": 50
        }
      ]
    },
    {
      "cell_type": "code",
      "metadata": {
        "colab": {
          "base_uri": "https://localhost:8080/"
        },
        "id": "Vt_pEQ9IRL_I",
        "outputId": "b5b091e5-c86a-4c87-d995-f827c54303bc"
      },
      "source": [
        "b"
      ],
      "execution_count": null,
      "outputs": [
        {
          "output_type": "execute_result",
          "data": {
            "text/plain": [
              "tensor([[2, 3],\n",
              "        [4, 5]], dtype=torch.int32)"
            ]
          },
          "metadata": {
            "tags": []
          },
          "execution_count": 51
        }
      ]
    },
    {
      "cell_type": "code",
      "metadata": {
        "colab": {
          "base_uri": "https://localhost:8080/"
        },
        "id": "2Ks-PDUVRwX7",
        "outputId": "a10b5637-363d-419c-9137-e189c6c848ff"
      },
      "source": [
        "y = a + z\n",
        "y"
      ],
      "execution_count": null,
      "outputs": [
        {
          "output_type": "execute_result",
          "data": {
            "text/plain": [
              "tensor([[-1.6364e+09,  2.2069e+04,  5.0000e+01,  4.9000e+01,  4.5000e+01],\n",
              "        [ 4.8000e+01,  5.1000e+01,  4.5000e+01,  4.8000e+01,  5.4000e+01],\n",
              "        [ 8.4000e+01,  4.9000e+01,  5.1000e+01,  5.8000e+01,  5.2000e+01],\n",
              "        [ 4.9000e+01,  5.8000e+01,  4.9000e+01,  5.2000e+01,  4.6000e+01]])"
            ]
          },
          "metadata": {
            "tags": []
          },
          "execution_count": 52
        }
      ]
    },
    {
      "cell_type": "code",
      "metadata": {
        "colab": {
          "base_uri": "https://localhost:8080/"
        },
        "id": "G-FtGdTtDB_h",
        "outputId": "64c0f84c-2643-4b7e-9bda-8514498724d5"
      },
      "source": [
        "y.dtype"
      ],
      "execution_count": null,
      "outputs": [
        {
          "output_type": "execute_result",
          "data": {
            "text/plain": [
              "torch.float32"
            ]
          },
          "metadata": {
            "tags": []
          },
          "execution_count": 53
        }
      ]
    },
    {
      "cell_type": "code",
      "metadata": {
        "colab": {
          "base_uri": "https://localhost:8080/"
        },
        "id": "0Pe8On2IDHXA",
        "outputId": "60570759-8e2e-45b1-8e72-66c1423a08d8"
      },
      "source": [
        "torch.add(z, a)"
      ],
      "execution_count": null,
      "outputs": [
        {
          "output_type": "execute_result",
          "data": {
            "text/plain": [
              "tensor([[-1.6364e+09,  2.2069e+04,  5.0000e+01,  4.9000e+01,  4.5000e+01],\n",
              "        [ 4.8000e+01,  5.1000e+01,  4.5000e+01,  4.8000e+01,  5.4000e+01],\n",
              "        [ 8.4000e+01,  4.9000e+01,  5.1000e+01,  5.8000e+01,  5.2000e+01],\n",
              "        [ 4.9000e+01,  5.8000e+01,  4.9000e+01,  5.2000e+01,  4.6000e+01]])"
            ]
          },
          "metadata": {
            "tags": []
          },
          "execution_count": 54
        }
      ]
    },
    {
      "cell_type": "code",
      "metadata": {
        "colab": {
          "base_uri": "https://localhost:8080/"
        },
        "id": "xTNCho8GDR8z",
        "outputId": "a19c7648-658e-4c1a-ed9b-096d22b72898"
      },
      "source": [
        "a = torch.rand(4,5) #0~1\n",
        "a"
      ],
      "execution_count": null,
      "outputs": [
        {
          "output_type": "execute_result",
          "data": {
            "text/plain": [
              "tensor([[0.4623, 0.4433, 0.1644, 0.4840, 0.8334],\n",
              "        [0.8323, 0.8297, 0.6471, 0.5632, 0.9902],\n",
              "        [0.9689, 0.5688, 0.5299, 0.4546, 0.5367],\n",
              "        [0.0705, 0.3011, 0.9628, 0.7412, 0.0831]])"
            ]
          },
          "metadata": {
            "tags": []
          },
          "execution_count": 55
        }
      ]
    },
    {
      "cell_type": "code",
      "metadata": {
        "colab": {
          "base_uri": "https://localhost:8080/"
        },
        "id": "XQpYNoUsDsBK",
        "outputId": "f034e160-cfeb-4c52-e58b-b8fb19c9281e"
      },
      "source": [
        "a.dtype"
      ],
      "execution_count": null,
      "outputs": [
        {
          "output_type": "execute_result",
          "data": {
            "text/plain": [
              "torch.float32"
            ]
          },
          "metadata": {
            "tags": []
          },
          "execution_count": 56
        }
      ]
    },
    {
      "cell_type": "code",
      "metadata": {
        "colab": {
          "base_uri": "https://localhost:8080/"
        },
        "id": "mYSg9HgYD6V1",
        "outputId": "9f1a30b5-3634-4131-ad42-542fd9ec26da"
      },
      "source": [
        "b = a.numpy()\n",
        "b"
      ],
      "execution_count": null,
      "outputs": [
        {
          "output_type": "execute_result",
          "data": {
            "text/plain": [
              "array([[0.46234262, 0.4433301 , 0.1644026 , 0.4840269 , 0.8333743 ],\n",
              "       [0.83228546, 0.8296826 , 0.6471261 , 0.56316286, 0.99022496],\n",
              "       [0.9688901 , 0.5688293 , 0.5299298 , 0.45463014, 0.5367443 ],\n",
              "       [0.07054657, 0.30114675, 0.9627911 , 0.7411657 , 0.08309686]],\n",
              "      dtype=float32)"
            ]
          },
          "metadata": {
            "tags": []
          },
          "execution_count": 57
        }
      ]
    },
    {
      "cell_type": "code",
      "metadata": {
        "id": "-dEi9nbmEHwE"
      },
      "source": [
        "import numpy as np"
      ],
      "execution_count": null,
      "outputs": []
    },
    {
      "cell_type": "code",
      "metadata": {
        "colab": {
          "base_uri": "https://localhost:8080/"
        },
        "id": "772_hBa5EVYd",
        "outputId": "0682b2c4-a407-475f-9d94-78498d49c3dc"
      },
      "source": [
        "a = np.ones(5)\n",
        "b = torch.from_numpy(a)#傳位置 a變b也變\n",
        "a"
      ],
      "execution_count": null,
      "outputs": [
        {
          "output_type": "execute_result",
          "data": {
            "text/plain": [
              "array([1., 1., 1., 1., 1.])"
            ]
          },
          "metadata": {
            "tags": []
          },
          "execution_count": 59
        }
      ]
    },
    {
      "cell_type": "code",
      "metadata": {
        "colab": {
          "base_uri": "https://localhost:8080/"
        },
        "id": "b2GukD6SEhwM",
        "outputId": "00bd4801-1f71-448f-8385-016e091e6020"
      },
      "source": [
        "b#注意型態 是numpy轉乘tensor會是float64"
      ],
      "execution_count": null,
      "outputs": [
        {
          "output_type": "execute_result",
          "data": {
            "text/plain": [
              "tensor([1., 1., 1., 1., 1.], dtype=torch.float64)"
            ]
          },
          "metadata": {
            "tags": []
          },
          "execution_count": 60
        }
      ]
    },
    {
      "cell_type": "code",
      "metadata": {
        "colab": {
          "base_uri": "https://localhost:8080/"
        },
        "id": "5x9zg2KyEvZy",
        "outputId": "783753c9-3b94-4479-a072-a4fe71c18aec"
      },
      "source": [
        "np.add(a, 1, out=a)"
      ],
      "execution_count": null,
      "outputs": [
        {
          "output_type": "execute_result",
          "data": {
            "text/plain": [
              "array([2., 2., 2., 2., 2.])"
            ]
          },
          "metadata": {
            "tags": []
          },
          "execution_count": 61
        }
      ]
    },
    {
      "cell_type": "code",
      "metadata": {
        "colab": {
          "base_uri": "https://localhost:8080/"
        },
        "id": "iF9wx4NPE_zk",
        "outputId": "057198d3-64bd-42a1-c798-5d10984af87d"
      },
      "source": [
        "b"
      ],
      "execution_count": null,
      "outputs": [
        {
          "output_type": "execute_result",
          "data": {
            "text/plain": [
              "tensor([2., 2., 2., 2., 2.], dtype=torch.float64)"
            ]
          },
          "metadata": {
            "tags": []
          },
          "execution_count": 62
        }
      ]
    },
    {
      "cell_type": "code",
      "metadata": {
        "colab": {
          "base_uri": "https://localhost:8080/"
        },
        "id": "LaNWo7pxFZm1",
        "outputId": "5a6cf95f-a649-4054-ea52-0d5cea4a2bb0"
      },
      "source": [
        "c = b + torch.FloatTensor([1,2,3,4,5])\n",
        "c"
      ],
      "execution_count": null,
      "outputs": [
        {
          "output_type": "execute_result",
          "data": {
            "text/plain": [
              "tensor([3., 4., 5., 6., 7.], dtype=torch.float64)"
            ]
          },
          "metadata": {
            "tags": []
          },
          "execution_count": 63
        }
      ]
    },
    {
      "cell_type": "code",
      "metadata": {
        "colab": {
          "base_uri": "https://localhost:8080/"
        },
        "id": "UW6_XPLIFjNX",
        "outputId": "41a891f5-d735-4fc0-e82a-1e2e8823f1a8"
      },
      "source": [
        "c = c.float()\n",
        "c.dtype"
      ],
      "execution_count": null,
      "outputs": [
        {
          "output_type": "execute_result",
          "data": {
            "text/plain": [
              "torch.float32"
            ]
          },
          "metadata": {
            "tags": []
          },
          "execution_count": 64
        }
      ]
    },
    {
      "cell_type": "code",
      "metadata": {
        "colab": {
          "base_uri": "https://localhost:8080/"
        },
        "id": "bA82uQWaFtiH",
        "outputId": "a68a9e27-29f0-485b-c256-3c7e9c661608"
      },
      "source": [
        "c = c.double()\n",
        "c.dtype"
      ],
      "execution_count": null,
      "outputs": [
        {
          "output_type": "execute_result",
          "data": {
            "text/plain": [
              "torch.float64"
            ]
          },
          "metadata": {
            "tags": []
          },
          "execution_count": 65
        }
      ]
    },
    {
      "cell_type": "code",
      "metadata": {
        "colab": {
          "base_uri": "https://localhost:8080/"
        },
        "id": "fNIK02PaF9We",
        "outputId": "919a5c7a-4cd1-4a51-fb8b-0f2b1b2a22e4"
      },
      "source": [
        "c = c.int()\n",
        "c"
      ],
      "execution_count": null,
      "outputs": [
        {
          "output_type": "execute_result",
          "data": {
            "text/plain": [
              "tensor([3, 4, 5, 6, 7], dtype=torch.int32)"
            ]
          },
          "metadata": {
            "tags": []
          },
          "execution_count": 66
        }
      ]
    },
    {
      "cell_type": "code",
      "metadata": {
        "colab": {
          "base_uri": "https://localhost:8080/"
        },
        "id": "phRjaAVxGFyV",
        "outputId": "b30cea4e-3f03-427f-ae84-5cefc1dda373"
      },
      "source": [
        "x = torch.zeros(2,1,2,1,2)\n",
        "x.size()"
      ],
      "execution_count": null,
      "outputs": [
        {
          "output_type": "execute_result",
          "data": {
            "text/plain": [
              "torch.Size([2, 1, 2, 1, 2])"
            ]
          },
          "metadata": {
            "tags": []
          },
          "execution_count": 67
        }
      ]
    },
    {
      "cell_type": "code",
      "metadata": {
        "colab": {
          "base_uri": "https://localhost:8080/"
        },
        "id": "ylT272SyGb1P",
        "outputId": "55e8ba6f-d5fd-4a30-ca52-850226646ff1"
      },
      "source": [
        "x"
      ],
      "execution_count": null,
      "outputs": [
        {
          "output_type": "execute_result",
          "data": {
            "text/plain": [
              "tensor([[[[[0., 0.]],\n",
              "\n",
              "          [[0., 0.]]]],\n",
              "\n",
              "\n",
              "\n",
              "        [[[[0., 0.]],\n",
              "\n",
              "          [[0., 0.]]]]])"
            ]
          },
          "metadata": {
            "tags": []
          },
          "execution_count": 68
        }
      ]
    },
    {
      "cell_type": "code",
      "metadata": {
        "colab": {
          "base_uri": "https://localhost:8080/"
        },
        "id": "I8a5It-rGxtA",
        "outputId": "f8cc161c-ab69-4941-8963-1a1c4b868094"
      },
      "source": [
        "y = torch.squeeze(x)\n",
        "y.size()"
      ],
      "execution_count": null,
      "outputs": [
        {
          "output_type": "execute_result",
          "data": {
            "text/plain": [
              "torch.Size([2, 2, 2])"
            ]
          },
          "metadata": {
            "tags": []
          },
          "execution_count": 69
        }
      ]
    },
    {
      "cell_type": "code",
      "metadata": {
        "colab": {
          "base_uri": "https://localhost:8080/"
        },
        "id": "zRgn3iPEHNnh",
        "outputId": "6049f8da-79a2-4edf-f57d-1d462b90220d"
      },
      "source": [
        "y = torch.squeeze(x,0)\n",
        "y.size()"
      ],
      "execution_count": null,
      "outputs": [
        {
          "output_type": "execute_result",
          "data": {
            "text/plain": [
              "torch.Size([2, 1, 2, 1, 2])"
            ]
          },
          "metadata": {
            "tags": []
          },
          "execution_count": 70
        }
      ]
    },
    {
      "cell_type": "code",
      "metadata": {
        "colab": {
          "base_uri": "https://localhost:8080/"
        },
        "id": "6Dl4JqpMHUS9",
        "outputId": "e84493df-30e0-4be1-dd3f-8c0270bd25e5"
      },
      "source": [
        "y = torch.squeeze(x,1)\n",
        "y.size()"
      ],
      "execution_count": null,
      "outputs": [
        {
          "output_type": "execute_result",
          "data": {
            "text/plain": [
              "torch.Size([2, 2, 1, 2])"
            ]
          },
          "metadata": {
            "tags": []
          },
          "execution_count": 71
        }
      ]
    },
    {
      "cell_type": "code",
      "metadata": {
        "colab": {
          "base_uri": "https://localhost:8080/"
        },
        "id": "rPSZNCUPHYWL",
        "outputId": "b2731e65-002b-4199-9df9-f3b2c6886367"
      },
      "source": [
        "y = torch.squeeze(y,2)\n",
        "y.size()"
      ],
      "execution_count": null,
      "outputs": [
        {
          "output_type": "execute_result",
          "data": {
            "text/plain": [
              "torch.Size([2, 2, 2])"
            ]
          },
          "metadata": {
            "tags": []
          },
          "execution_count": 72
        }
      ]
    },
    {
      "cell_type": "code",
      "metadata": {
        "colab": {
          "base_uri": "https://localhost:8080/"
        },
        "id": "AJxwVqGtH70J",
        "outputId": "7d754bbd-7814-4509-9dae-343f46db315e"
      },
      "source": [
        "torch.abs(torch.FloatTensor([-1,-2,3]))"
      ],
      "execution_count": null,
      "outputs": [
        {
          "output_type": "execute_result",
          "data": {
            "text/plain": [
              "tensor([1., 2., 3.])"
            ]
          },
          "metadata": {
            "tags": []
          },
          "execution_count": 73
        }
      ]
    },
    {
      "cell_type": "code",
      "metadata": {
        "colab": {
          "base_uri": "https://localhost:8080/"
        },
        "id": "KINKFN5wII2j",
        "outputId": "bb7de6a9-0da5-450b-e05e-578802e7652e"
      },
      "source": [
        "a = torch.randn(4)\n",
        "a"
      ],
      "execution_count": null,
      "outputs": [
        {
          "output_type": "execute_result",
          "data": {
            "text/plain": [
              "tensor([-1.6528,  0.3647, -0.2370,  0.1542])"
            ]
          },
          "metadata": {
            "tags": []
          },
          "execution_count": 74
        }
      ]
    },
    {
      "cell_type": "code",
      "metadata": {
        "colab": {
          "base_uri": "https://localhost:8080/"
        },
        "id": "iSr9HhZ_Ib2Q",
        "outputId": "6745fc5a-519d-4533-b248-fea971e4845d"
      },
      "source": [
        "b = torch.add(a, 20)\n",
        "b"
      ],
      "execution_count": null,
      "outputs": [
        {
          "output_type": "execute_result",
          "data": {
            "text/plain": [
              "tensor([18.3472, 20.3647, 19.7630, 20.1542])"
            ]
          },
          "metadata": {
            "tags": []
          },
          "execution_count": 75
        }
      ]
    },
    {
      "cell_type": "code",
      "metadata": {
        "colab": {
          "base_uri": "https://localhost:8080/"
        },
        "id": "i-c6CQOcIjvH",
        "outputId": "9b42c4a4-585b-4eb3-a63e-3e0522532c38"
      },
      "source": [
        "c = torch.mul(a, 0.1)\n",
        "c"
      ],
      "execution_count": null,
      "outputs": [
        {
          "output_type": "execute_result",
          "data": {
            "text/plain": [
              "tensor([-0.1653,  0.0365, -0.0237,  0.0154])"
            ]
          },
          "metadata": {
            "tags": []
          },
          "execution_count": 76
        }
      ]
    },
    {
      "cell_type": "code",
      "metadata": {
        "id": "8iMLaqhfIuoE"
      },
      "source": [
        "d = torch.mul(a,b)#個元素相乘"
      ],
      "execution_count": null,
      "outputs": []
    },
    {
      "cell_type": "code",
      "metadata": {
        "colab": {
          "base_uri": "https://localhost:8080/"
        },
        "id": "qGFH2-iDJEA3",
        "outputId": "fda7d5d5-11ad-448d-f2ac-9ef048d27de3"
      },
      "source": [
        "d"
      ],
      "execution_count": null,
      "outputs": [
        {
          "output_type": "execute_result",
          "data": {
            "text/plain": [
              "tensor([-30.3249,   7.4276,  -4.6848,   3.1081])"
            ]
          },
          "metadata": {
            "tags": []
          },
          "execution_count": 78
        }
      ]
    },
    {
      "cell_type": "code",
      "metadata": {
        "colab": {
          "base_uri": "https://localhost:8080/"
        },
        "id": "0obZjPCiI-0a",
        "outputId": "2898c015-0718-42a5-9fea-bd1c2ccd702c"
      },
      "source": [
        "x = torch.rand(2,3)\n",
        "y = torch.rand(3,2)\n",
        "x "
      ],
      "execution_count": null,
      "outputs": [
        {
          "output_type": "execute_result",
          "data": {
            "text/plain": [
              "tensor([[0.1183, 0.5018, 0.4667],\n",
              "        [0.7130, 0.4210, 0.2154]])"
            ]
          },
          "metadata": {
            "tags": []
          },
          "execution_count": 79
        }
      ]
    },
    {
      "cell_type": "code",
      "metadata": {
        "colab": {
          "base_uri": "https://localhost:8080/"
        },
        "id": "oIjo1HeAJO7S",
        "outputId": "ff7ea147-ca9f-4f73-ee59-48771a73da6e"
      },
      "source": [
        "y"
      ],
      "execution_count": null,
      "outputs": [
        {
          "output_type": "execute_result",
          "data": {
            "text/plain": [
              "tensor([[0.4754, 0.5050],\n",
              "        [0.6195, 0.1833],\n",
              "        [0.4659, 0.2542]])"
            ]
          },
          "metadata": {
            "tags": []
          },
          "execution_count": 80
        }
      ]
    },
    {
      "cell_type": "code",
      "metadata": {
        "colab": {
          "base_uri": "https://localhost:8080/"
        },
        "id": "7dMK9sZtxJOC",
        "outputId": "93dbcbd6-25b0-4e79-a94b-ed83f1afda85"
      },
      "source": [
        "y.size()"
      ],
      "execution_count": null,
      "outputs": [
        {
          "output_type": "execute_result",
          "data": {
            "text/plain": [
              "torch.Size([3, 2])"
            ]
          },
          "metadata": {
            "tags": []
          },
          "execution_count": 81
        }
      ]
    },
    {
      "cell_type": "code",
      "metadata": {
        "colab": {
          "base_uri": "https://localhost:8080/"
        },
        "id": "NdJUp04uJQxD",
        "outputId": "ca2452e9-c603-428e-fb11-a2c41fd513fb"
      },
      "source": [
        "d = torch.matmul(y, x)#二維矩陣相乘 三維報錯 #跟dot差別\n",
        "d"
      ],
      "execution_count": null,
      "outputs": [
        {
          "output_type": "execute_result",
          "data": {
            "text/plain": [
              "tensor([[0.4163, 0.4511, 0.3306],\n",
              "        [0.2040, 0.3880, 0.3286],\n",
              "        [0.2363, 0.3408, 0.2722]])"
            ]
          },
          "metadata": {
            "tags": []
          },
          "execution_count": 82
        }
      ]
    },
    {
      "cell_type": "code",
      "metadata": {
        "colab": {
          "base_uri": "https://localhost:8080/"
        },
        "id": "Op9DOwbwxWc4",
        "outputId": "e31bb84f-590c-48c0-a229-7a070b7b1b19"
      },
      "source": [
        "print(y.mean())\n",
        "k=y.mean()\n",
        "print(k)\n",
        "print(k.data)"
      ],
      "execution_count": null,
      "outputs": [
        {
          "output_type": "stream",
          "text": [
            "tensor(0.4172)\n",
            "tensor(0.4172)\n",
            "tensor(0.4172)\n"
          ],
          "name": "stdout"
        }
      ]
    },
    {
      "cell_type": "code",
      "metadata": {
        "colab": {
          "base_uri": "https://localhost:8080/"
        },
        "id": "NBllcAerx1n3",
        "outputId": "1f1893ec-f20a-4dcb-d05f-e1b74f29d512"
      },
      "source": [
        "torch.mean(y)"
      ],
      "execution_count": null,
      "outputs": [
        {
          "output_type": "execute_result",
          "data": {
            "text/plain": [
              "tensor(0.4172)"
            ]
          },
          "metadata": {
            "tags": []
          },
          "execution_count": 87
        }
      ]
    },
    {
      "cell_type": "code",
      "metadata": {
        "colab": {
          "base_uri": "https://localhost:8080/"
        },
        "id": "bTY15bMiufcF",
        "outputId": "8e6c0545-d273-4748-b8ca-6cf196643cb9"
      },
      "source": [
        "torch.mean(y,0)"
      ],
      "execution_count": null,
      "outputs": [
        {
          "output_type": "execute_result",
          "data": {
            "text/plain": [
              "tensor([0.5203, 0.3142])"
            ]
          },
          "metadata": {
            "tags": []
          },
          "execution_count": 88
        }
      ]
    },
    {
      "cell_type": "code",
      "metadata": {
        "colab": {
          "base_uri": "https://localhost:8080/"
        },
        "id": "7tx42Wq5yhXi",
        "outputId": "c37a79d7-8d75-4a2f-ea5e-a9ecea2bc129"
      },
      "source": [
        "torch.mean(y,1)"
      ],
      "execution_count": null,
      "outputs": [
        {
          "output_type": "execute_result",
          "data": {
            "text/plain": [
              "tensor([0.4902, 0.4014, 0.3600])"
            ]
          },
          "metadata": {
            "tags": []
          },
          "execution_count": 89
        }
      ]
    },
    {
      "cell_type": "code",
      "metadata": {
        "id": "DUz1rr3V0QSn"
      },
      "source": [
        "x = torch.Tensor([[1,2],[3,4]])\n",
        "y = torch.Tensor([[1,1],[4,4]])"
      ],
      "execution_count": null,
      "outputs": []
    },
    {
      "cell_type": "code",
      "metadata": {
        "colab": {
          "base_uri": "https://localhost:8080/"
        },
        "id": "84CcRd0j0kSL",
        "outputId": "bd7f4244-c453-4247-e177-3eac06973db0"
      },
      "source": [
        "x"
      ],
      "execution_count": null,
      "outputs": [
        {
          "output_type": "execute_result",
          "data": {
            "text/plain": [
              "tensor([[1., 2.],\n",
              "        [3., 4.]])"
            ]
          },
          "metadata": {
            "tags": []
          },
          "execution_count": 92
        }
      ]
    },
    {
      "cell_type": "code",
      "metadata": {
        "colab": {
          "base_uri": "https://localhost:8080/"
        },
        "id": "WWukOnnX0lmc",
        "outputId": "b911c765-fdbc-4f60-8aa3-f54d1a2edd82"
      },
      "source": [
        "y"
      ],
      "execution_count": null,
      "outputs": [
        {
          "output_type": "execute_result",
          "data": {
            "text/plain": [
              "tensor([[1., 1.],\n",
              "        [4., 4.]])"
            ]
          },
          "metadata": {
            "tags": []
          },
          "execution_count": 93
        }
      ]
    },
    {
      "cell_type": "code",
      "metadata": {
        "colab": {
          "base_uri": "https://localhost:8080/"
        },
        "id": "m0mBeNOl0nJ8",
        "outputId": "5819db97-450d-42ac-8034-a322c6fd1102"
      },
      "source": [
        "torch.eq(x,y)#形狀一樣才能比較"
      ],
      "execution_count": null,
      "outputs": [
        {
          "output_type": "execute_result",
          "data": {
            "text/plain": [
              "tensor([[ True, False],\n",
              "        [False,  True]])"
            ]
          },
          "metadata": {
            "tags": []
          },
          "execution_count": 94
        }
      ]
    },
    {
      "cell_type": "code",
      "metadata": {
        "colab": {
          "base_uri": "https://localhost:8080/"
        },
        "id": "H5bLHt6k1C4F",
        "outputId": "2d843ee3-1a10-42ea-9a24-ad96cf72082b"
      },
      "source": [
        "torch.equal(x,y)"
      ],
      "execution_count": null,
      "outputs": [
        {
          "output_type": "execute_result",
          "data": {
            "text/plain": [
              "False"
            ]
          },
          "metadata": {
            "tags": []
          },
          "execution_count": 96
        }
      ]
    },
    {
      "cell_type": "code",
      "metadata": {
        "colab": {
          "base_uri": "https://localhost:8080/"
        },
        "id": "czza7M610vo7",
        "outputId": "e95d939b-f674-40cd-d686-74368643c04b"
      },
      "source": [
        "torch.equal(y,y)"
      ],
      "execution_count": null,
      "outputs": [
        {
          "output_type": "execute_result",
          "data": {
            "text/plain": [
              "True"
            ]
          },
          "metadata": {
            "tags": []
          },
          "execution_count": 95
        }
      ]
    },
    {
      "cell_type": "code",
      "metadata": {
        "colab": {
          "base_uri": "https://localhost:8080/"
        },
        "id": "Rz9cK6xH1Elp",
        "outputId": "fe186f86-d9d4-4bd0-fe6a-8cd87e96ba0a"
      },
      "source": [
        "torch.ge(x,y)#>="
      ],
      "execution_count": null,
      "outputs": [
        {
          "output_type": "execute_result",
          "data": {
            "text/plain": [
              "tensor([[ True,  True],\n",
              "        [False,  True]])"
            ]
          },
          "metadata": {
            "tags": []
          },
          "execution_count": 97
        }
      ]
    },
    {
      "cell_type": "code",
      "metadata": {
        "id": "UTuZ_ZbK1Ni9"
      },
      "source": [
        "torch.le(x,y)#<="
      ],
      "execution_count": null,
      "outputs": []
    },
    {
      "cell_type": "code",
      "metadata": {
        "colab": {
          "base_uri": "https://localhost:8080/"
        },
        "id": "fp7m2d_V1VyE",
        "outputId": "d11b28a0-4ed0-4e1a-e8e6-27f891433a58"
      },
      "source": [
        "torch.gt(x,y)#>"
      ],
      "execution_count": null,
      "outputs": [
        {
          "output_type": "execute_result",
          "data": {
            "text/plain": [
              "tensor([[False,  True],\n",
              "        [False, False]])"
            ]
          },
          "metadata": {
            "tags": []
          },
          "execution_count": 98
        }
      ]
    },
    {
      "cell_type": "code",
      "metadata": {
        "colab": {
          "base_uri": "https://localhost:8080/"
        },
        "id": "_tTt_nzo1Zw7",
        "outputId": "f7191927-991f-4579-b241-8f9f320512a3"
      },
      "source": [
        "torch.lt(x,y)#<"
      ],
      "execution_count": null,
      "outputs": [
        {
          "output_type": "execute_result",
          "data": {
            "text/plain": [
              "tensor([[False, False],\n",
              "        [ True, False]])"
            ]
          },
          "metadata": {
            "tags": []
          },
          "execution_count": 99
        }
      ]
    }
  ]
}
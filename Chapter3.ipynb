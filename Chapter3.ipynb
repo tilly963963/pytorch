{
  "nbformat": 4,
  "nbformat_minor": 0,
  "metadata": {
    "colab": {
      "name": "Chapter3.ipynb",
      "provenance": [],
      "authorship_tag": "ABX9TyOa63fLJvAyib0+IR2eOpF5",
      "include_colab_link": true
    },
    "kernelspec": {
      "name": "python3",
      "display_name": "Python 3"
    },
    "language_info": {
      "name": "python"
    },
    "accelerator": "GPU"
  },
  "cells": [
    {
      "cell_type": "markdown",
      "metadata": {
        "id": "view-in-github",
        "colab_type": "text"
      },
      "source": [
        "<a href=\"https://colab.research.google.com/github/tilly963963/pytorch/blob/main/Chapter3.ipynb\" target=\"_parent\"><img src=\"https://colab.research.google.com/assets/colab-badge.svg\" alt=\"Open In Colab\"/></a>"
      ]
    },
    {
      "cell_type": "code",
      "metadata": {
        "id": "yu15tN6_algb"
      },
      "source": [
        "import torchvision.datasets as dsets\n",
        "import torchvision.transforms as transforms"
      ],
      "execution_count": null,
      "outputs": []
    },
    {
      "cell_type": "code",
      "metadata": {
        "id": "cR_iyFrza6ly"
      },
      "source": [
        "train_dataset = dsets.MNIST(root = './data',\n",
        "              train = True,\n",
        "              transform = transforms.ToTensor(),#把資料傳換\n",
        "              download = True)#預設False\n",
        "test_dataset = dsets.MNIST(root = './data',\n",
        "              train = False,\n",
        "              transform = transforms.ToTensor())#把資料傳換\n",
        "               "
      ],
      "execution_count": null,
      "outputs": []
    },
    {
      "cell_type": "code",
      "metadata": {
        "colab": {
          "base_uri": "https://localhost:8080/"
        },
        "id": "IXGLyNUCb_aD",
        "outputId": "160f6e28-da59-4925-d84b-fa11ae8d5fed"
      },
      "source": [
        "train_dataset"
      ],
      "execution_count": null,
      "outputs": [
        {
          "output_type": "execute_result",
          "data": {
            "text/plain": [
              "Dataset MNIST\n",
              "    Number of datapoints: 60000\n",
              "    Root location: ./data\n",
              "    Split: Train\n",
              "    StandardTransform\n",
              "Transform: ToTensor()"
            ]
          },
          "metadata": {
            "tags": []
          },
          "execution_count": 79
        }
      ]
    },
    {
      "cell_type": "code",
      "metadata": {
        "colab": {
          "base_uri": "https://localhost:8080/"
        },
        "id": "JCJbu4OvcFGR",
        "outputId": "0eed6212-d754-421b-d688-3addfab447b6"
      },
      "source": [
        "train_dataset.data.shape"
      ],
      "execution_count": null,
      "outputs": [
        {
          "output_type": "execute_result",
          "data": {
            "text/plain": [
              "torch.Size([60000, 28, 28])"
            ]
          },
          "metadata": {
            "tags": []
          },
          "execution_count": 80
        }
      ]
    },
    {
      "cell_type": "code",
      "metadata": {
        "id": "GlFiLpO5cLjC"
      },
      "source": [
        "import matplotlib.pyplot as plt"
      ],
      "execution_count": null,
      "outputs": []
    },
    {
      "cell_type": "code",
      "metadata": {
        "colab": {
          "base_uri": "https://localhost:8080/",
          "height": 282
        },
        "id": "X4q3-hpEcVnE",
        "outputId": "639026a3-6a49-4164-88c4-199d811d6bcc"
      },
      "source": [
        "plt.imshow(train_dataset.data[0])"
      ],
      "execution_count": null,
      "outputs": [
        {
          "output_type": "execute_result",
          "data": {
            "text/plain": [
              "<matplotlib.image.AxesImage at 0x7f7a81070610>"
            ]
          },
          "metadata": {
            "tags": []
          },
          "execution_count": 82
        },
        {
          "output_type": "display_data",
          "data": {
            "image/png": "[encoded data removed]",
            "text/plain": [
              "<Figure size 432x288 with 1 Axes>"
            ]
          },
          "metadata": {
            "tags": [],
            "needs_background": "light"
          }
        }
      ]
    },
    {
      "cell_type": "code",
      "metadata": {
        "colab": {
          "base_uri": "https://localhost:8080/",
          "height": 281
        },
        "id": "fk6ohUmBch7B",
        "outputId": "6ada9b7e-f1bd-4725-bcb4-8f51fb5324f7"
      },
      "source": [
        "plt.imshow(train_dataset.data[0].numpy(),cmap='gray')\n",
        "plt.title(\"%i\"%train_dataset.targets[0])\n",
        "plt.show()"
      ],
      "execution_count": null,
      "outputs": [
        {
          "output_type": "display_data",
          "data": {
            "image/png": "[encoded data removed]",
            "text/plain": [
              "<Figure size 432x288 with 1 Axes>"
            ]
          },
          "metadata": {
            "tags": [],
            "needs_background": "light"
          }
        }
      ]
    },
    {
      "cell_type": "code",
      "metadata": {
        "id": "VYmMJ8bDdKHr"
      },
      "source": [
        "input_size = 28*28\n",
        "num_class = 10\n",
        "num_epoch = 5\n",
        "batch_size=100\n",
        "hidden_size =500\n",
        "learning_rate = 0.001"
      ],
      "execution_count": null,
      "outputs": []
    },
    {
      "cell_type": "code",
      "metadata": {
        "id": "9JB3aqoFd34R"
      },
      "source": [
        "import torch.utils.data as Data"
      ],
      "execution_count": null,
      "outputs": []
    },
    {
      "cell_type": "code",
      "metadata": {
        "id": "4069vgdDodwL"
      },
      "source": [
        "train_loader = Data.DataLoader(dataset = train_dataset,\n",
        "              batch_size = batch_size,\n",
        "              shuffle = True)\n",
        "test_loader = Data.DataLoader(dataset = test_dataset,\n",
        "              batch_size = batch_size,\n",
        "              shuffle = False)"
      ],
      "execution_count": null,
      "outputs": []
    },
    {
      "cell_type": "code",
      "metadata": {
        "id": "obkbmoJ5ruBD"
      },
      "source": [
        ""
      ],
      "execution_count": null,
      "outputs": []
    },
    {
      "cell_type": "code",
      "metadata": {
        "id": "CK95dMOhrHua"
      },
      "source": [
        "import torch.nn as nn"
      ],
      "execution_count": null,
      "outputs": []
    },
    {
      "cell_type": "code",
      "metadata": {
        "id": "noLa4AemrKl_"
      },
      "source": [
        "class Model(nn.Module):\n",
        "  def __init__(self,input_size,hidden_size,num_class):\n",
        "    super(Model,self).__init__()\n",
        "    self.fcl = nn.Linear(input_size,hidden_size)\n",
        "    self.relu = nn.ReLU()\n",
        "    self.fc2 = nn.Linear(hidden_size,num_class)\n",
        "  def forward(self,x):\n",
        "    out = self.fcl(x)\n",
        "    out = self.relu(out)\n",
        "    out = self.fc2(out)\n",
        "    return out"
      ],
      "execution_count": null,
      "outputs": []
    },
    {
      "cell_type": "code",
      "metadata": {
        "id": "EAvxd-_3sms6"
      },
      "source": [
        "model = Model(input_size, hidden_size, num_class)"
      ],
      "execution_count": null,
      "outputs": []
    },
    {
      "cell_type": "code",
      "metadata": {
        "id": "RVy2RipRswiz"
      },
      "source": [
        "import torch.optim as opt"
      ],
      "execution_count": null,
      "outputs": []
    },
    {
      "cell_type": "code",
      "metadata": {
        "id": "VAFFhPA9s0MD"
      },
      "source": [
        "loss_fn = nn.CrossEntropyLoss()\n",
        "optimizer = opt.Adam(model.parameters(),lr = learning_rate)"
      ],
      "execution_count": null,
      "outputs": []
    },
    {
      "cell_type": "code",
      "metadata": {
        "id": "TxEd9DouvRpX"
      },
      "source": [
        "from torch.autograd import Variable"
      ],
      "execution_count": null,
      "outputs": []
    },
    {
      "cell_type": "code",
      "metadata": {
        "colab": {
          "base_uri": "https://localhost:8080/"
        },
        "id": "UGeby2ZEuuJx",
        "outputId": "f5051026-4b12-4ab2-f654-3c839c7da32a"
      },
      "source": [
        "for epoch in range(num_epoch):\n",
        "  for i ,(images,labels) in enumerate(train_loader):\n",
        "    images = Variable(images.view(-1,28*28))\n",
        "    labels = Variable(labels)\n",
        "    optimizer.zero_grad()\n",
        "    outputs = model(images)\n",
        "    loss = loss_fn(outputs, labels)\n",
        "    loss.backward()\n",
        "    optimizer.step()\n",
        "    if (i+1)%100 == 0:\n",
        "      print(\"Epoch:%d, Batch:%d , Loss:%0.4f\"\n",
        "      %(epoch+1,i+1,loss.data))"
      ],
      "execution_count": null,
      "outputs": [
        {
          "output_type": "stream",
          "text": [
            "Epoch:1, Batch:100 , Loss:0.4204\n",
            "Epoch:1, Batch:200 , Loss:0.2836\n",
            "Epoch:1, Batch:300 , Loss:0.2919\n",
            "Epoch:1, Batch:400 , Loss:0.1685\n",
            "Epoch:1, Batch:500 , Loss:0.0855\n",
            "Epoch:1, Batch:600 , Loss:0.1943\n",
            "Epoch:2, Batch:100 , Loss:0.0704\n",
            "Epoch:2, Batch:200 , Loss:0.2419\n",
            "Epoch:2, Batch:300 , Loss:0.0553\n",
            "Epoch:2, Batch:400 , Loss:0.0413\n",
            "Epoch:2, Batch:500 , Loss:0.1603\n",
            "Epoch:2, Batch:600 , Loss:0.1226\n",
            "Epoch:3, Batch:100 , Loss:0.1106\n",
            "Epoch:3, Batch:200 , Loss:0.1100\n",
            "Epoch:3, Batch:300 , Loss:0.1374\n",
            "Epoch:3, Batch:400 , Loss:0.0777\n",
            "Epoch:3, Batch:500 , Loss:0.0400\n",
            "Epoch:3, Batch:600 , Loss:0.0466\n",
            "Epoch:4, Batch:100 , Loss:0.0312\n",
            "Epoch:4, Batch:200 , Loss:0.0455\n",
            "Epoch:4, Batch:300 , Loss:0.0630\n",
            "Epoch:4, Batch:400 , Loss:0.1139\n",
            "Epoch:4, Batch:500 , Loss:0.0330\n",
            "Epoch:4, Batch:600 , Loss:0.0628\n",
            "Epoch:5, Batch:100 , Loss:0.0410\n",
            "Epoch:5, Batch:200 , Loss:0.0368\n",
            "Epoch:5, Batch:300 , Loss:0.0475\n",
            "Epoch:5, Batch:400 , Loss:0.0307\n",
            "Epoch:5, Batch:500 , Loss:0.0410\n",
            "Epoch:5, Batch:600 , Loss:0.0282\n"
          ],
          "name": "stdout"
        }
      ]
    },
    {
      "cell_type": "code",
      "metadata": {
        "id": "_wdDTUqfxOJK"
      },
      "source": [
        "import torch"
      ],
      "execution_count": null,
      "outputs": []
    },
    {
      "cell_type": "code",
      "metadata": {
        "colab": {
          "base_uri": "https://localhost:8080/"
        },
        "id": "NkJObDncxRcd",
        "outputId": "0a359a1d-8544-41d2-dc04-d9dba4682f07"
      },
      "source": [
        "correct = 0 \n",
        "total = 0\n",
        "for images, labels in test_loader:\n",
        "  images = Variable(images.view(-1,28*28))\n",
        "  outputs = model(images)\n",
        "  _ ,pred = torch.max(outputs.data,1)#最大值 ,最大值的位置\n",
        "  correct +=(pred == labels).sum()\n",
        "  total += labels.size(0)\n",
        "print(\"Accuracy:%.3f%%\"%(100.0*float(correct)/float(total)))"
      ],
      "execution_count": null,
      "outputs": [
        {
          "output_type": "stream",
          "text": [
            "Accuracy:97.730%\n"
          ],
          "name": "stdout"
        }
      ]
    },
    {
      "cell_type": "code",
      "metadata": {
        "colab": {
          "base_uri": "https://localhost:8080/"
        },
        "id": "Aa-hkw-T5ZCP",
        "outputId": "89b03318-d623-4f0b-ab44-a0eabd4aa448"
      },
      "source": [
        "for images, labels in test_loader:\n",
        "  print(images.shape)\n",
        "  break"
      ],
      "execution_count": null,
      "outputs": [
        {
          "output_type": "stream",
          "text": [
            "torch.Size([100, 1, 28, 28])\n"
          ],
          "name": "stdout"
        }
      ]
    },
    {
      "cell_type": "code",
      "metadata": {
        "colab": {
          "base_uri": "https://localhost:8080/",
          "height": 382
        },
        "id": "qRFFHJg75nmy",
        "outputId": "960b576e-4b32-4f74-bd5d-8ad2b73a424b"
      },
      "source": [
        "plt.imshow(images[1][0], cmap='gray')\n",
        "plt.title(labels[1])\n",
        "plt.show()\n",
        "images_flat = Variable(images[:2].view(-1,28*28))\n",
        "outputs = model(images_flat)\n",
        "print(outputs)\n",
        "_, pred_y = torch.max(outputs.data,-1)\n",
        "print(pred_y)"
      ],
      "execution_count": null,
      "outputs": [
        {
          "output_type": "display_data",
          "data": {
            "image/png": "[encoded data removed]",
            "text/plain": [
              "<Figure size 432x288 with 1 Axes>"
            ]
          },
          "metadata": {
            "tags": [],
            "needs_background": "light"
          }
        },
        {
          "output_type": "stream",
          "text": [
            "tensor([[-3.7798e+00, -8.9011e+00, -1.4733e+00,  1.4740e+00, -1.3948e+01,\n",
            "         -6.4138e+00, -2.0898e+01,  9.6002e+00, -4.4709e+00, -2.5301e+00],\n",
            "        [-4.7279e+00,  1.5944e-01,  1.1739e+01, -5.8396e-03, -2.0892e+01,\n",
            "         -2.6705e+00, -8.9136e+00, -1.6236e+01, -1.4714e+00, -1.5270e+01]],\n",
            "       grad_fn=<AddmmBackward>)\n",
            "tensor([7, 2])\n"
          ],
          "name": "stdout"
        }
      ]
    },
    {
      "cell_type": "code",
      "metadata": {
        "id": "Wd4omQtL6y6t"
      },
      "source": [
        "torch.save(model.state_dict(),'model.pkl')#存參數"
      ],
      "execution_count": null,
      "outputs": []
    },
    {
      "cell_type": "code",
      "metadata": {
        "colab": {
          "base_uri": "https://localhost:8080/"
        },
        "id": "6eIkdgRu9YAr",
        "outputId": "8b6ef7b6-057b-42e5-e66a-c9a38c5016cb"
      },
      "source": [
        "model2 = Model(input_size, hidden_size, num_class)\n",
        "model2.load_state_dict(torch.load('model.pkl'))"
      ],
      "execution_count": null,
      "outputs": [
        {
          "output_type": "execute_result",
          "data": {
            "text/plain": [
              "<All keys matched successfully>"
            ]
          },
          "metadata": {
            "tags": []
          },
          "execution_count": 102
        }
      ]
    },
    {
      "cell_type": "code",
      "metadata": {
        "colab": {
          "base_uri": "https://localhost:8080/"
        },
        "id": "w5-NbWSC9gnG",
        "outputId": "2b2d3585-90d1-42da-886e-03ed8da9570b"
      },
      "source": [
        "correct = 0 \n",
        "total = 0\n",
        "for images, labels in test_loader:\n",
        "  images = Variable(images.view(-1,28*28))\n",
        "  outputs = model2(images)\n",
        "  _ ,pred = torch.max(outputs.data,1)#最大值 ,最大值的位置\n",
        "  correct +=(pred == labels).sum()\n",
        "  total += labels.size(0)\n",
        "print(\"Accuracy:%.3f%%\"%(100.0*float(correct)/float(total)))"
      ],
      "execution_count": null,
      "outputs": [
        {
          "output_type": "stream",
          "text": [
            "Accuracy:97.730%\n"
          ],
          "name": "stdout"
        }
      ]
    },
    {
      "cell_type": "code",
      "metadata": {
        "id": "n7gudSFF96fp"
      },
      "source": [
        "torch.save(model2, \"model2.pkl\")"
      ],
      "execution_count": null,
      "outputs": []
    },
    {
      "cell_type": "code",
      "metadata": {
        "id": "vwN86BW4-G2C"
      },
      "source": [
        "model3 = torch.load(\"model2.pkl\")"
      ],
      "execution_count": null,
      "outputs": []
    },
    {
      "cell_type": "code",
      "metadata": {
        "colab": {
          "base_uri": "https://localhost:8080/"
        },
        "id": "Pevcolv2-UT5",
        "outputId": "8a4248a2-7a62-408e-9f70-cc90e79a5e65"
      },
      "source": [
        "correct = 0 \n",
        "total = 0\n",
        "for images, labels in test_loader:\n",
        "  images = Variable(images.view(-1,28*28))\n",
        "  outputs = model3(images)\n",
        "  _ ,pred = torch.max(outputs.data,1)#最大值 ,最大值的位置\n",
        "  correct +=(pred == labels).sum()\n",
        "  total += labels.size(0)\n",
        "print(\"Accuracy:%.3f%%\"%(100.0*float(correct)/float(total)))"
      ],
      "execution_count": null,
      "outputs": [
        {
          "output_type": "stream",
          "text": [
            "Accuracy:97.730%\n"
          ],
          "name": "stdout"
        }
      ]
    },
    {
      "cell_type": "code",
      "metadata": {
        "colab": {
          "base_uri": "https://localhost:8080/"
        },
        "id": "Sue7KewNK2MZ",
        "outputId": "4ff043fc-147e-44f3-96cd-7c82fe43db28"
      },
      "source": [
        "model4 = nn.Sequential(\n",
        "    nn.Linear(input_size, hidden_size),\n",
        "    nn.ReLU(),\n",
        "    nn.Linear(hidden_size,num_class)\n",
        ")\n",
        "print(model)\n",
        "print(model4)"
      ],
      "execution_count": null,
      "outputs": [
        {
          "output_type": "stream",
          "text": [
            "Model(\n",
            "  (fcl): Linear(in_features=784, out_features=500, bias=True)\n",
            "  (relu): ReLU()\n",
            "  (fc2): Linear(in_features=500, out_features=10, bias=True)\n",
            ")\n",
            "Sequential(\n",
            "  (0): Linear(in_features=784, out_features=500, bias=True)\n",
            "  (1): ReLU()\n",
            "  (2): Linear(in_features=500, out_features=10, bias=True)\n",
            ")\n"
          ],
          "name": "stdout"
        }
      ]
    },
    {
      "cell_type": "code",
      "metadata": {
        "id": "k4D5o-JnL29k"
      },
      "source": [
        "# optimizer = opt.SGD(model4.parameters(),lr = learning_rate, momentum=0.5)\n",
        "# optimizer = opt.Adagrad(model4.parameters(),lr = learning_rate, momentum=0.5)\n",
        "# optimizer = opt.RMSprop(model4.parameters(),lr = learning_rate, momentum=0.5)\n",
        "optimizer = opt.Adam(model4.parameters(),lr = learning_rate, momentum=0.5)"
      ],
      "execution_count": null,
      "outputs": []
    },
    {
      "cell_type": "code",
      "metadata": {
        "colab": {
          "base_uri": "https://localhost:8080/"
        },
        "id": "VF7oTyY_L7m0",
        "outputId": "bafa087f-154f-4fa7-cba8-f748724ce4c4"
      },
      "source": [
        "for epoch in range(num_epoch):\n",
        "  for i ,(images,labels) in enumerate(train_loader):\n",
        "    images = Variable(images.view(-1,28*28))\n",
        "    labels = Variable(labels)\n",
        "    optimizer.zero_grad()\n",
        "    outputs = model4(images)\n",
        "    loss = loss_fn(outputs, labels)\n",
        "    loss.backward()\n",
        "    optimizer.step()\n",
        "    if (i+1)%100 == 0:\n",
        "      print(\"Epoch:%d, Batch:%d , Loss:%0.4f\"\n",
        "      %(epoch+1,i+1,loss.data))"
      ],
      "execution_count": null,
      "outputs": [
        {
          "output_type": "stream",
          "text": [
            "Epoch:1, Batch:100 , Loss:0.2272\n",
            "Epoch:1, Batch:200 , Loss:0.2953\n",
            "Epoch:1, Batch:300 , Loss:0.1169\n",
            "Epoch:1, Batch:400 , Loss:0.1175\n",
            "Epoch:1, Batch:500 , Loss:0.2799\n",
            "Epoch:1, Batch:600 , Loss:0.2965\n",
            "Epoch:2, Batch:100 , Loss:0.1303\n",
            "Epoch:2, Batch:200 , Loss:0.2499\n",
            "Epoch:2, Batch:300 , Loss:0.0842\n",
            "Epoch:2, Batch:400 , Loss:0.1465\n",
            "Epoch:2, Batch:500 , Loss:0.1044\n",
            "Epoch:2, Batch:600 , Loss:0.2789\n",
            "Epoch:3, Batch:100 , Loss:0.1705\n",
            "Epoch:3, Batch:200 , Loss:0.0904\n",
            "Epoch:3, Batch:300 , Loss:0.0556\n",
            "Epoch:3, Batch:400 , Loss:0.0645\n",
            "Epoch:3, Batch:500 , Loss:0.0456\n",
            "Epoch:3, Batch:600 , Loss:0.0470\n",
            "Epoch:4, Batch:100 , Loss:0.0276\n",
            "Epoch:4, Batch:200 , Loss:0.1486\n",
            "Epoch:4, Batch:300 , Loss:0.0245\n",
            "Epoch:4, Batch:400 , Loss:0.0369\n",
            "Epoch:4, Batch:500 , Loss:0.0689\n",
            "Epoch:4, Batch:600 , Loss:0.0116\n",
            "Epoch:5, Batch:100 , Loss:0.0081\n",
            "Epoch:5, Batch:200 , Loss:0.0421\n",
            "Epoch:5, Batch:300 , Loss:0.0417\n",
            "Epoch:5, Batch:400 , Loss:0.0617\n",
            "Epoch:5, Batch:500 , Loss:0.0201\n",
            "Epoch:5, Batch:600 , Loss:0.0811\n"
          ],
          "name": "stdout"
        }
      ]
    }
  ]
}